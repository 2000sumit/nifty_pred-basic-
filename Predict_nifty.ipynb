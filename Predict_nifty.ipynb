{
 "cells": [
  {
   "cell_type": "code",
   "execution_count": 3,
   "metadata": {},
   "outputs": [
    {
     "data": {
      "text/html": [
       "<div>\n",
       "<style scoped>\n",
       "    .dataframe tbody tr th:only-of-type {\n",
       "        vertical-align: middle;\n",
       "    }\n",
       "\n",
       "    .dataframe tbody tr th {\n",
       "        vertical-align: top;\n",
       "    }\n",
       "\n",
       "    .dataframe thead th {\n",
       "        text-align: right;\n",
       "    }\n",
       "</style>\n",
       "<table border=\"1\" class=\"dataframe\">\n",
       "  <thead>\n",
       "    <tr style=\"text-align: right;\">\n",
       "      <th></th>\n",
       "      <th>Index Name</th>\n",
       "      <th>Open</th>\n",
       "      <th>High</th>\n",
       "      <th>Low</th>\n",
       "      <th>Close</th>\n",
       "    </tr>\n",
       "    <tr>\n",
       "      <th>Date</th>\n",
       "      <th></th>\n",
       "      <th></th>\n",
       "      <th></th>\n",
       "      <th></th>\n",
       "      <th></th>\n",
       "    </tr>\n",
       "  </thead>\n",
       "  <tbody>\n",
       "    <tr>\n",
       "      <th>2024-09-06</th>\n",
       "      <td>NIFTY</td>\n",
       "      <td>25093.70</td>\n",
       "      <td>25168.75</td>\n",
       "      <td>24801.30</td>\n",
       "      <td>24852.15</td>\n",
       "    </tr>\n",
       "    <tr>\n",
       "      <th>2024-09-05</th>\n",
       "      <td>NIFTY</td>\n",
       "      <td>25250.50</td>\n",
       "      <td>25275.45</td>\n",
       "      <td>25127.75</td>\n",
       "      <td>25145.10</td>\n",
       "    </tr>\n",
       "    <tr>\n",
       "      <th>2024-09-04</th>\n",
       "      <td>NIFTY</td>\n",
       "      <td>25089.95</td>\n",
       "      <td>25216.00</td>\n",
       "      <td>25083.80</td>\n",
       "      <td>25198.70</td>\n",
       "    </tr>\n",
       "    <tr>\n",
       "      <th>2024-09-03</th>\n",
       "      <td>NIFTY</td>\n",
       "      <td>25313.40</td>\n",
       "      <td>25321.70</td>\n",
       "      <td>25235.80</td>\n",
       "      <td>25279.85</td>\n",
       "    </tr>\n",
       "    <tr>\n",
       "      <th>2024-09-02</th>\n",
       "      <td>NIFTY</td>\n",
       "      <td>25333.60</td>\n",
       "      <td>25333.65</td>\n",
       "      <td>25235.50</td>\n",
       "      <td>25278.70</td>\n",
       "    </tr>\n",
       "  </tbody>\n",
       "</table>\n",
       "</div>"
      ],
      "text/plain": [
       "           Index Name      Open      High       Low     Close\n",
       "Date                                                         \n",
       "2024-09-06      NIFTY  25093.70  25168.75  24801.30  24852.15\n",
       "2024-09-05      NIFTY  25250.50  25275.45  25127.75  25145.10\n",
       "2024-09-04      NIFTY  25089.95  25216.00  25083.80  25198.70\n",
       "2024-09-03      NIFTY  25313.40  25321.70  25235.80  25279.85\n",
       "2024-09-02      NIFTY  25333.60  25333.65  25235.50  25278.70"
      ]
     },
     "execution_count": 3,
     "metadata": {},
     "output_type": "execute_result"
    }
   ],
   "source": [
    "import pandas as pd\n",
    "import numpy as np\n",
    "from sklearn.model_selection import train_test_split\n",
    "from sklearn.metrics import mean_squared_error,r2_score\n",
    "from sklearn.preprocessing import StandardScaler\n",
    "from sklearn.ensemble import RandomForestClassifier\n",
    "import matplotlib.pyplot as plt\n",
    "\n",
    "df=pd.read_csv('Nifty.csv')\n",
    "df['Date'] = pd.to_datetime(df['Date'])\n",
    "df.set_index('Date',inplace=True)\n",
    "df.head()"
   ]
  },
  {
   "cell_type": "code",
   "execution_count": 4,
   "metadata": {},
   "outputs": [
    {
     "data": {
      "text/html": [
       "<div>\n",
       "<style scoped>\n",
       "    .dataframe tbody tr th:only-of-type {\n",
       "        vertical-align: middle;\n",
       "    }\n",
       "\n",
       "    .dataframe tbody tr th {\n",
       "        vertical-align: top;\n",
       "    }\n",
       "\n",
       "    .dataframe thead th {\n",
       "        text-align: right;\n",
       "    }\n",
       "</style>\n",
       "<table border=\"1\" class=\"dataframe\">\n",
       "  <thead>\n",
       "    <tr style=\"text-align: right;\">\n",
       "      <th></th>\n",
       "      <th>Index Name</th>\n",
       "      <th>Open</th>\n",
       "      <th>High</th>\n",
       "      <th>Low</th>\n",
       "      <th>Close</th>\n",
       "      <th>MA9</th>\n",
       "    </tr>\n",
       "    <tr>\n",
       "      <th>Date</th>\n",
       "      <th></th>\n",
       "      <th></th>\n",
       "      <th></th>\n",
       "      <th></th>\n",
       "      <th></th>\n",
       "      <th></th>\n",
       "    </tr>\n",
       "  </thead>\n",
       "  <tbody>\n",
       "    <tr>\n",
       "      <th>2024-08-27</th>\n",
       "      <td>NIFTY</td>\n",
       "      <td>25024.80</td>\n",
       "      <td>25073.10</td>\n",
       "      <td>24973.65</td>\n",
       "      <td>25017.75</td>\n",
       "      <td>25134.716667</td>\n",
       "    </tr>\n",
       "    <tr>\n",
       "      <th>2024-08-26</th>\n",
       "      <td>NIFTY</td>\n",
       "      <td>24906.10</td>\n",
       "      <td>25043.80</td>\n",
       "      <td>24874.70</td>\n",
       "      <td>25010.60</td>\n",
       "      <td>25152.322222</td>\n",
       "    </tr>\n",
       "    <tr>\n",
       "      <th>2024-08-23</th>\n",
       "      <td>NIFTY</td>\n",
       "      <td>24845.40</td>\n",
       "      <td>24858.40</td>\n",
       "      <td>24771.65</td>\n",
       "      <td>24823.15</td>\n",
       "      <td>25116.550000</td>\n",
       "    </tr>\n",
       "    <tr>\n",
       "      <th>2024-08-22</th>\n",
       "      <td>NIFTY</td>\n",
       "      <td>24863.40</td>\n",
       "      <td>24867.35</td>\n",
       "      <td>24784.45</td>\n",
       "      <td>24811.50</td>\n",
       "      <td>25073.527778</td>\n",
       "    </tr>\n",
       "    <tr>\n",
       "      <th>2024-08-21</th>\n",
       "      <td>NIFTY</td>\n",
       "      <td>24680.55</td>\n",
       "      <td>24787.95</td>\n",
       "      <td>24654.50</td>\n",
       "      <td>24770.20</td>\n",
       "      <td>25016.900000</td>\n",
       "    </tr>\n",
       "  </tbody>\n",
       "</table>\n",
       "</div>"
      ],
      "text/plain": [
       "           Index Name      Open      High       Low     Close           MA9\n",
       "Date                                                                       \n",
       "2024-08-27      NIFTY  25024.80  25073.10  24973.65  25017.75  25134.716667\n",
       "2024-08-26      NIFTY  24906.10  25043.80  24874.70  25010.60  25152.322222\n",
       "2024-08-23      NIFTY  24845.40  24858.40  24771.65  24823.15  25116.550000\n",
       "2024-08-22      NIFTY  24863.40  24867.35  24784.45  24811.50  25073.527778\n",
       "2024-08-21      NIFTY  24680.55  24787.95  24654.50  24770.20  25016.900000"
      ]
     },
     "execution_count": 4,
     "metadata": {},
     "output_type": "execute_result"
    }
   ],
   "source": [
    "df['MA9']=df['Close'].rolling(window=9).mean()\n",
    "df.dropna(inplace=True)\n",
    "df.head()\n",
    "\n",
    "\n"
   ]
  },
  {
   "cell_type": "code",
   "execution_count": 5,
   "metadata": {},
   "outputs": [],
   "source": [
    "x=df[['Open','High','Low','MA9']]\n",
    "y=df['Close']"
   ]
  },
  {
   "cell_type": "code",
   "execution_count": 6,
   "metadata": {},
   "outputs": [],
   "source": [
    "x_train, x_test, y_train, y_test=train_test_split(x,y,test_size=0.2,shuffle=False)\n"
   ]
  },
  {
   "cell_type": "code",
   "execution_count": 7,
   "metadata": {},
   "outputs": [
    {
     "data": {
      "text/plain": [
       "Date\n",
       "2020-12-02    13113.75\n",
       "2020-12-01    13109.05\n",
       "2020-11-27    12968.95\n",
       "2020-11-26    12987.00\n",
       "2020-11-25    12858.40\n",
       "                ...   \n",
       "2020-01-07    12052.95\n",
       "2020-01-06    11993.05\n",
       "2020-01-03    12226.65\n",
       "2020-01-02    12282.20\n",
       "2020-01-01    12182.50\n",
       "Name: Close, Length: 232, dtype: float64"
      ]
     },
     "execution_count": 7,
     "metadata": {},
     "output_type": "execute_result"
    }
   ],
   "source": [
    "y_test"
   ]
  },
  {
   "cell_type": "code",
   "execution_count": 8,
   "metadata": {},
   "outputs": [],
   "source": [
    "scaler=StandardScaler()\n",
    "x_train_scaled=scaler.fit_transform(x_train)\n",
    "x_test_scaled=scaler.transform(x_test)"
   ]
  },
  {
   "cell_type": "code",
   "execution_count": 9,
   "metadata": {},
   "outputs": [],
   "source": [
    "from sklearn.linear_model import LinearRegression\n"
   ]
  },
  {
   "cell_type": "code",
   "execution_count": 10,
   "metadata": {},
   "outputs": [
    {
     "data": {
      "text/html": [
       "<style>#sk-container-id-1 {color: black;}#sk-container-id-1 pre{padding: 0;}#sk-container-id-1 div.sk-toggleable {background-color: white;}#sk-container-id-1 label.sk-toggleable__label {cursor: pointer;display: block;width: 100%;margin-bottom: 0;padding: 0.3em;box-sizing: border-box;text-align: center;}#sk-container-id-1 label.sk-toggleable__label-arrow:before {content: \"▸\";float: left;margin-right: 0.25em;color: #696969;}#sk-container-id-1 label.sk-toggleable__label-arrow:hover:before {color: black;}#sk-container-id-1 div.sk-estimator:hover label.sk-toggleable__label-arrow:before {color: black;}#sk-container-id-1 div.sk-toggleable__content {max-height: 0;max-width: 0;overflow: hidden;text-align: left;background-color: #f0f8ff;}#sk-container-id-1 div.sk-toggleable__content pre {margin: 0.2em;color: black;border-radius: 0.25em;background-color: #f0f8ff;}#sk-container-id-1 input.sk-toggleable__control:checked~div.sk-toggleable__content {max-height: 200px;max-width: 100%;overflow: auto;}#sk-container-id-1 input.sk-toggleable__control:checked~label.sk-toggleable__label-arrow:before {content: \"▾\";}#sk-container-id-1 div.sk-estimator input.sk-toggleable__control:checked~label.sk-toggleable__label {background-color: #d4ebff;}#sk-container-id-1 div.sk-label input.sk-toggleable__control:checked~label.sk-toggleable__label {background-color: #d4ebff;}#sk-container-id-1 input.sk-hidden--visually {border: 0;clip: rect(1px 1px 1px 1px);clip: rect(1px, 1px, 1px, 1px);height: 1px;margin: -1px;overflow: hidden;padding: 0;position: absolute;width: 1px;}#sk-container-id-1 div.sk-estimator {font-family: monospace;background-color: #f0f8ff;border: 1px dotted black;border-radius: 0.25em;box-sizing: border-box;margin-bottom: 0.5em;}#sk-container-id-1 div.sk-estimator:hover {background-color: #d4ebff;}#sk-container-id-1 div.sk-parallel-item::after {content: \"\";width: 100%;border-bottom: 1px solid gray;flex-grow: 1;}#sk-container-id-1 div.sk-label:hover label.sk-toggleable__label {background-color: #d4ebff;}#sk-container-id-1 div.sk-serial::before {content: \"\";position: absolute;border-left: 1px solid gray;box-sizing: border-box;top: 0;bottom: 0;left: 50%;z-index: 0;}#sk-container-id-1 div.sk-serial {display: flex;flex-direction: column;align-items: center;background-color: white;padding-right: 0.2em;padding-left: 0.2em;position: relative;}#sk-container-id-1 div.sk-item {position: relative;z-index: 1;}#sk-container-id-1 div.sk-parallel {display: flex;align-items: stretch;justify-content: center;background-color: white;position: relative;}#sk-container-id-1 div.sk-item::before, #sk-container-id-1 div.sk-parallel-item::before {content: \"\";position: absolute;border-left: 1px solid gray;box-sizing: border-box;top: 0;bottom: 0;left: 50%;z-index: -1;}#sk-container-id-1 div.sk-parallel-item {display: flex;flex-direction: column;z-index: 1;position: relative;background-color: white;}#sk-container-id-1 div.sk-parallel-item:first-child::after {align-self: flex-end;width: 50%;}#sk-container-id-1 div.sk-parallel-item:last-child::after {align-self: flex-start;width: 50%;}#sk-container-id-1 div.sk-parallel-item:only-child::after {width: 0;}#sk-container-id-1 div.sk-dashed-wrapped {border: 1px dashed gray;margin: 0 0.4em 0.5em 0.4em;box-sizing: border-box;padding-bottom: 0.4em;background-color: white;}#sk-container-id-1 div.sk-label label {font-family: monospace;font-weight: bold;display: inline-block;line-height: 1.2em;}#sk-container-id-1 div.sk-label-container {text-align: center;}#sk-container-id-1 div.sk-container {/* jupyter's `normalize.less` sets `[hidden] { display: none; }` but bootstrap.min.css set `[hidden] { display: none !important; }` so we also need the `!important` here to be able to override the default hidden behavior on the sphinx rendered scikit-learn.org. See: https://github.com/scikit-learn/scikit-learn/issues/21755 */display: inline-block !important;position: relative;}#sk-container-id-1 div.sk-text-repr-fallback {display: none;}</style><div id=\"sk-container-id-1\" class=\"sk-top-container\"><div class=\"sk-text-repr-fallback\"><pre>LinearRegression()</pre><b>In a Jupyter environment, please rerun this cell to show the HTML representation or trust the notebook. <br />On GitHub, the HTML representation is unable to render, please try loading this page with nbviewer.org.</b></div><div class=\"sk-container\" hidden><div class=\"sk-item\"><div class=\"sk-estimator sk-toggleable\"><input class=\"sk-toggleable__control sk-hidden--visually\" id=\"sk-estimator-id-1\" type=\"checkbox\" checked><label for=\"sk-estimator-id-1\" class=\"sk-toggleable__label sk-toggleable__label-arrow\">LinearRegression</label><div class=\"sk-toggleable__content\"><pre>LinearRegression()</pre></div></div></div></div></div>"
      ],
      "text/plain": [
       "LinearRegression()"
      ]
     },
     "execution_count": 10,
     "metadata": {},
     "output_type": "execute_result"
    }
   ],
   "source": [
    "lr=LinearRegression()\n",
    "\n",
    "lr.fit(x_train_scaled,y_train)"
   ]
  },
  {
   "cell_type": "code",
   "execution_count": 11,
   "metadata": {},
   "outputs": [],
   "source": [
    "y_pred=lr.predict(x_test_scaled)"
   ]
  },
  {
   "cell_type": "code",
   "execution_count": 14,
   "metadata": {},
   "outputs": [
    {
     "name": "stdout",
     "output_type": "stream",
     "text": [
      "3428.7363067758615\n",
      "0.9978508164277632\n"
     ]
    }
   ],
   "source": [
    "mse=mean_squared_error(y_test,y_pred)\n",
    "print(mse)\n",
    "r2=r2_score(y_test,y_pred)\n",
    "print(r2)"
   ]
  },
  {
   "cell_type": "code",
   "execution_count": 15,
   "metadata": {},
   "outputs": [
    {
     "data": {
      "image/png": "[encoded data removed]",
      "text/plain": [
       "<Figure size 1000x600 with 1 Axes>"
      ]
     },
     "metadata": {},
     "output_type": "display_data"
    }
   ],
   "source": [
    "plt.figure(figsize=(10,6))\n",
    "plt.plot(y_test, y_test, label='Actual Prices')\n",
    "plt.plot(y_test, y_pred, label='Predicted Prices', linestyle='--')\n",
    "plt.legend()\n",
    "plt.show()"
   ]
  },
  {
   "cell_type": "code",
   "execution_count": 17,
   "metadata": {},
   "outputs": [
    {
     "data": {
      "text/plain": [
       "array([13039.6864604 , 13059.75693021, 12972.91272776, 12933.63814186,\n",
       "       12931.07119848, 13054.26310463, 12874.28361148, 12830.36777645,\n",
       "       12884.38873839, 12910.52013545, 12834.87067859, 12777.10272618,\n",
       "       12697.28141113, 12686.3350649 , 12684.91677029, 12583.92049891,\n",
       "       12456.19111986, 12270.42612114, 12121.33858944, 11923.81151936,\n",
       "       11844.56561155, 11648.02147584, 11658.95843183, 11727.99352508,\n",
       "       11757.68504632, 11828.20429525, 11773.42280161, 11927.30911135,\n",
       "       11878.9011969 , 11871.22056226, 11917.35087524, 11850.73226867,\n",
       "       11743.97155052, 11757.43483032, 11914.66724984, 11944.3597388 ,\n",
       "       11933.84075191, 11893.82006354, 11865.13466437, 11723.46995312,\n",
       "       11651.8319908 , 11554.68229551, 11426.09178736, 11266.30782683,\n",
       "       11240.80404816, 11214.97521059, 11036.18729899, 10871.31019697,\n",
       "       11091.03459912, 11141.17576177, 11310.46100188, 11464.79165779,\n",
       "       11534.42620129, 11576.96368409, 11486.35247626, 11441.94684234,\n",
       "       11463.99479071, 11427.53601851, 11273.84739417, 11369.32125914,\n",
       "       11304.06301141, 11405.04355132, 11531.89073856, 11505.98378209,\n",
       "       11468.89446799, 11451.15545722, 11655.77073643, 11558.75412586,\n",
       "       11516.40285302, 11458.27242141, 11488.78431664, 11386.40634617,\n",
       "       11342.18371412, 11417.19420759, 11387.14884014, 11197.39325717,\n",
       "       11192.25909823, 11309.32023076, 11285.46656322, 11348.84079349,\n",
       "       11305.97976349, 11198.16140138, 11208.81288579, 11154.05001004,\n",
       "       11075.43872436, 10938.37171388, 11068.6081692 , 11166.73556231,\n",
       "       11234.03217377, 11292.24746133, 11121.12859283, 11170.52862987,\n",
       "       11202.24967467, 11107.12204731, 11164.27268391, 11006.54739604,\n",
       "       10925.917666  , 10687.34026694, 10737.32275044, 10629.99823682,\n",
       "       10822.10945132, 10779.44372015, 10812.54194905, 10739.67869722,\n",
       "       10728.17294014, 10779.01691707, 10595.98042557, 10588.83190296,\n",
       "       10430.73991328, 10327.9679635 , 10284.02537982, 10364.43925033,\n",
       "       10327.70405027, 10368.56086241, 10435.86703979, 10356.26142351,\n",
       "       10229.20825307, 10086.42136816,  9974.01915107,  9846.84919834,\n",
       "        9812.99577733,  9963.78892258,  9958.67365378, 10110.31069284,\n",
       "       10153.38812303, 10163.95910018, 10123.43104681, 10033.53705339,\n",
       "       10110.78085087,  9947.42818939,  9904.73329552,  9570.65976979,\n",
       "        9498.4094748 ,  9282.08463039,  9109.48107658,  9093.15046936,\n",
       "        9168.40935392,  9080.6863988 ,  8959.51266917,  8906.90656933,\n",
       "        9083.42662835,  9197.20158006,  9392.74041918,  9137.9392672 ,\n",
       "        9324.42007299,  9270.19861111,  9225.49925022,  9249.99789638,\n",
       "        9267.61844824,  9328.92013788,  9834.09069102,  9559.47597652,\n",
       "        9308.02274851,  9359.69166002,  9272.18262906,  9290.80114385,\n",
       "        9144.1879065 ,  8979.02854438,  9273.69593425,  9155.17541909,\n",
       "        9023.03180439,  9020.56616871,  8974.78237347,  9065.72241837,\n",
       "        9066.43498416,  8737.03028415,  8168.79660993,  8322.82033066,\n",
       "        8545.89010879,  8462.34268834,  8707.06757245,  8611.94240265,\n",
       "        8315.15922857,  7798.00529691,  7888.24974082,  8731.23027916,\n",
       "        8357.09761564,  8599.1576691 ,  9081.00068056,  9243.39388821,\n",
       "        9604.17460409,  9597.83453465, 10453.30975641, 10362.9204538 ,\n",
       "       10874.56342869, 11266.88883138, 11109.02534474, 11243.61148778,\n",
       "       11143.12134596, 11210.04396828, 11545.15602053, 11680.11554061,\n",
       "       11786.42812681, 11842.30941494, 12084.56298731, 12071.23788641,\n",
       "       11928.39559902, 12071.91066977, 12154.39088336, 12155.02909541,\n",
       "       12209.59334091, 12154.14989312, 12022.17216462, 12095.21836003,\n",
       "       12127.68273575, 12052.40270938, 11972.12968413, 11744.24571861,\n",
       "       11791.15690851, 11985.54062631, 12042.05823215, 12146.43895335,\n",
       "       12063.56081612, 12137.44013383, 12231.22259697, 12152.44157081,\n",
       "       12121.87807886, 12196.45646603, 12262.82470703, 12364.10085584,\n",
       "       12352.66840938, 12296.89024132, 12346.4209692 , 12321.75324537,\n",
       "       12263.59574983, 12205.26931595, 12039.1878098 , 12097.16788346,\n",
       "       12038.80211954, 12210.86182382, 12273.91325984, 12190.43765281])"
      ]
     },
     "execution_count": 17,
     "metadata": {},
     "output_type": "execute_result"
    }
   ],
   "source": [
    "y_pred"
   ]
  },
  {
   "cell_type": "code",
   "execution_count": null,
   "metadata": {},
   "outputs": [],
   "source": []
  }
 ],
 "metadata": {
  "kernelspec": {
   "display_name": "base",
   "language": "python",
   "name": "python3"
  },
  "language_info": {
   "codemirror_mode": {
    "name": "ipython",
    "version": 3
   },
   "file_extension": ".py",
   "mimetype": "text/x-python",
   "name": "python",
   "nbconvert_exporter": "python",
   "pygments_lexer": "ipython3",
   "version": "3.11.5"
  }
 },
 "nbformat": 4,
 "nbformat_minor": 2
}
